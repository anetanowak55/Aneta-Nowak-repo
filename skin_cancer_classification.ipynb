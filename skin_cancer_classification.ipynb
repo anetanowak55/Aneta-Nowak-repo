{
  "cells": [
    {
      "cell_type": "markdown",
      "metadata": {
        "id": "view-in-github",
        "colab_type": "text"
      },
      "source": [
        "<a href=\"https://colab.research.google.com/github/anetanowak55/Aneta-Nowak-repo/blob/main/skin_cancer_classification.ipynb\" target=\"_parent\"><img src=\"https://colab.research.google.com/assets/colab-badge.svg\" alt=\"Open In Colab\"/></a>"
      ]
    },
    {
      "cell_type": "markdown",
      "source": [
        "#0. Importy"
      ],
      "metadata": {
        "id": "zCImDNTvn1L-"
      }
    },
    {
      "cell_type": "code",
      "execution_count": 5,
      "metadata": {
        "id": "Bt5vPVO2Uru4"
      },
      "outputs": [],
      "source": [
        "import pandas as pd \n",
        "import matplotlib.pyplot as plt\n",
        "import numpy as np\n",
        "from PIL import Image\n",
        "from sklearn.model_selection import train_test_split"
      ]
    },
    {
      "cell_type": "code",
      "execution_count": 6,
      "metadata": {
        "id": "YQsoywZicQhw"
      },
      "outputs": [],
      "source": [
        "# from google.colab import drive\n",
        "# drive.mount('/content/drive')"
      ]
    },
    {
      "cell_type": "code",
      "source": [
        "# !sudo pip install tensorflowjs\n",
        "# !pip show tensorflow\n",
        "# !pip show keras\n",
        "# !python -V"
      ],
      "metadata": {
        "id": "NRnO7YcigphU"
      },
      "execution_count": 7,
      "outputs": []
    },
    {
      "cell_type": "code",
      "execution_count": 8,
      "metadata": {
        "id": "VuPJg0NQt8rv"
      },
      "outputs": [],
      "source": [
        "import tensorflow as tf\n",
        "from tensorflow import keras\n",
        "from tensorflow.keras.preprocessing import image\n",
        "from tensorflow.keras import layers\n",
        "from tensorflow.keras.models import Model,Sequential\n",
        "from tensorflow.keras.optimizers import Adam, SGD, RMSprop\n",
        "from tensorflow.keras.layers import Dropout, BatchNormalization\n",
        "from tensorflow.keras.layers import (\n",
        "    Input, Dense, Conv2D, Flatten, Activation, \n",
        "    MaxPooling2D, AveragePooling2D, ZeroPadding2D, GlobalAveragePooling2D, GlobalMaxPooling2D, add\n",
        ")\n",
        "from tensorflow.keras.applications import ResNet50\n",
        "from tensorflow.keras.callbacks import EarlyStopping, ModelCheckpoint\n",
        "#from tensorflow.keras.models import load_model\n",
        "from tensorflow.keras.utils import plot_model\n",
        "from tensorflow.keras.preprocessing.image import ImageDataGenerator\n",
        "#import tensorflowjs as tfjs"
      ]
    },
    {
      "cell_type": "markdown",
      "source": [
        "#1. Konfiguracja"
      ],
      "metadata": {
        "id": "unUP8BI9k7Bd"
      }
    },
    {
      "cell_type": "code",
      "execution_count": 9,
      "metadata": {
        "id": "5qwtcjyauAEw"
      },
      "outputs": [],
      "source": [
        "SEED=123\n",
        "np.random.seed(SEED)"
      ]
    },
    {
      "cell_type": "code",
      "execution_count": 10,
      "metadata": {
        "colab": {
          "base_uri": "https://localhost:8080/"
        },
        "id": "8Xy3lydIbMDR",
        "outputId": "e78198ff-c954-4318-b4ba-a2d945af16a2"
      },
      "outputs": [
        {
          "output_type": "stream",
          "name": "stdout",
          "text": [
            "Num GPUs Available:  1\n"
          ]
        }
      ],
      "source": [
        "print(\"Num GPUs Available: \", len(tf.config.experimental.list_physical_devices('GPU')))"
      ]
    },
    {
      "cell_type": "code",
      "execution_count": 11,
      "metadata": {
        "id": "OjL-nbExWA2i"
      },
      "outputs": [],
      "source": [
        "base_path = \"drive/MyDrive/ColabNotebooks/\"\n",
        "path_train_csv = \"train.csv\"\n",
        "path_test_csv = \"test.csv\"\n",
        "#path_train_img = base_path + \"full_train_imgs/train\"\n",
        "path_train_img = base_path + \"equal_classes_imgs/train\"\n",
        "path_test_img = base_path + \"jpeg/test\"\n",
        "checkpoint_path = base_path + \"checkpoint/\"\n",
        "tfjs_target_dir = base_path + \"/tfjs\"\n",
        "models_path = base_path + '/models'"
      ]
    },
    {
      "cell_type": "code",
      "source": [
        "CONFIG = dict(\n",
        "    # Preprocessing\n",
        "    validation = 0.25,\n",
        "    target_size = (224,224),\n",
        "    input_shape = (224, 224, 3),\n",
        "\n",
        "    # Training\n",
        "    epochs = 20,\n",
        "    verbose = 1,\n",
        "    workers = 4,\n",
        "    optimizer = 'adam', # 'SGD', 'RMSprop', 'adam'\n",
        "    RANDOM_STATE = 123,\n",
        "    loss = 'binary_crossentropy', # focal loss\n",
        "\n",
        "    # Postprocessing\n",
        "    label_smooth_fac  =  0.00,  # 0.01; 0.05; 0.1; 0.2;\n",
        ")"
      ],
      "metadata": {
        "id": "yFQSRiGyqyHE"
      },
      "execution_count": 12,
      "outputs": []
    },
    {
      "cell_type": "markdown",
      "source": [
        "#2. Wczytanie i eksploracja danych"
      ],
      "metadata": {
        "id": "hpwPG6X2lJmQ"
      }
    },
    {
      "cell_type": "code",
      "execution_count": 13,
      "metadata": {
        "colab": {
          "base_uri": "https://localhost:8080/",
          "height": 424
        },
        "id": "f1bcew3uWBF3",
        "outputId": "a606792e-d4c4-4e9e-b57f-74cc248bdb2c"
      },
      "outputs": [
        {
          "output_type": "execute_result",
          "data": {
            "text/plain": [
              "         image_name  patient_id     sex  age_approx  \\\n",
              "0      ISIC_2637011  IP_7279968    male        45.0   \n",
              "1      ISIC_0015719  IP_3075186  female        45.0   \n",
              "2      ISIC_0052212  IP_2842074  female        50.0   \n",
              "3      ISIC_0068279  IP_6890425  female        45.0   \n",
              "4      ISIC_0074268  IP_8723313  female        55.0   \n",
              "...             ...         ...     ...         ...   \n",
              "33121  ISIC_9999134  IP_6526534    male        50.0   \n",
              "33122  ISIC_9999320  IP_3650745    male        65.0   \n",
              "33123  ISIC_9999515  IP_2026598    male        20.0   \n",
              "33124  ISIC_9999666  IP_7702038    male        50.0   \n",
              "33125  ISIC_9999806  IP_0046310    male        45.0   \n",
              "\n",
              "      anatom_site_general_challenge diagnosis benign_malignant  target  \\\n",
              "0                         head/neck   unknown           benign       0   \n",
              "1                   upper extremity   unknown           benign       0   \n",
              "2                   lower extremity     nevus           benign       0   \n",
              "3                         head/neck   unknown           benign       0   \n",
              "4                   upper extremity   unknown           benign       0   \n",
              "...                             ...       ...              ...     ...   \n",
              "33121                         torso   unknown           benign       0   \n",
              "33122                         torso   unknown           benign       0   \n",
              "33123               lower extremity   unknown           benign       0   \n",
              "33124               lower extremity   unknown           benign       0   \n",
              "33125                         torso     nevus           benign       0   \n",
              "\n",
              "         image_filename  \n",
              "0      ISIC_2637011.jpg  \n",
              "1      ISIC_0015719.jpg  \n",
              "2      ISIC_0052212.jpg  \n",
              "3      ISIC_0068279.jpg  \n",
              "4      ISIC_0074268.jpg  \n",
              "...                 ...  \n",
              "33121  ISIC_9999134.jpg  \n",
              "33122  ISIC_9999320.jpg  \n",
              "33123  ISIC_9999515.jpg  \n",
              "33124  ISIC_9999666.jpg  \n",
              "33125  ISIC_9999806.jpg  \n",
              "\n",
              "[33126 rows x 9 columns]"
            ],
            "text/html": [
              "\n",
              "  <div id=\"df-2c8db7dc-ac53-45d4-bc94-e7d49777ee8a\">\n",
              "    <div class=\"colab-df-container\">\n",
              "      <div>\n",
              "<style scoped>\n",
              "    .dataframe tbody tr th:only-of-type {\n",
              "        vertical-align: middle;\n",
              "    }\n",
              "\n",
              "    .dataframe tbody tr th {\n",
              "        vertical-align: top;\n",
              "    }\n",
              "\n",
              "    .dataframe thead th {\n",
              "        text-align: right;\n",
              "    }\n",
              "</style>\n",
              "<table border=\"1\" class=\"dataframe\">\n",
              "  <thead>\n",
              "    <tr style=\"text-align: right;\">\n",
              "      <th></th>\n",
              "      <th>image_name</th>\n",
              "      <th>patient_id</th>\n",
              "      <th>sex</th>\n",
              "      <th>age_approx</th>\n",
              "      <th>anatom_site_general_challenge</th>\n",
              "      <th>diagnosis</th>\n",
              "      <th>benign_malignant</th>\n",
              "      <th>target</th>\n",
              "      <th>image_filename</th>\n",
              "    </tr>\n",
              "  </thead>\n",
              "  <tbody>\n",
              "    <tr>\n",
              "      <th>0</th>\n",
              "      <td>ISIC_2637011</td>\n",
              "      <td>IP_7279968</td>\n",
              "      <td>male</td>\n",
              "      <td>45.0</td>\n",
              "      <td>head/neck</td>\n",
              "      <td>unknown</td>\n",
              "      <td>benign</td>\n",
              "      <td>0</td>\n",
              "      <td>ISIC_2637011.jpg</td>\n",
              "    </tr>\n",
              "    <tr>\n",
              "      <th>1</th>\n",
              "      <td>ISIC_0015719</td>\n",
              "      <td>IP_3075186</td>\n",
              "      <td>female</td>\n",
              "      <td>45.0</td>\n",
              "      <td>upper extremity</td>\n",
              "      <td>unknown</td>\n",
              "      <td>benign</td>\n",
              "      <td>0</td>\n",
              "      <td>ISIC_0015719.jpg</td>\n",
              "    </tr>\n",
              "    <tr>\n",
              "      <th>2</th>\n",
              "      <td>ISIC_0052212</td>\n",
              "      <td>IP_2842074</td>\n",
              "      <td>female</td>\n",
              "      <td>50.0</td>\n",
              "      <td>lower extremity</td>\n",
              "      <td>nevus</td>\n",
              "      <td>benign</td>\n",
              "      <td>0</td>\n",
              "      <td>ISIC_0052212.jpg</td>\n",
              "    </tr>\n",
              "    <tr>\n",
              "      <th>3</th>\n",
              "      <td>ISIC_0068279</td>\n",
              "      <td>IP_6890425</td>\n",
              "      <td>female</td>\n",
              "      <td>45.0</td>\n",
              "      <td>head/neck</td>\n",
              "      <td>unknown</td>\n",
              "      <td>benign</td>\n",
              "      <td>0</td>\n",
              "      <td>ISIC_0068279.jpg</td>\n",
              "    </tr>\n",
              "    <tr>\n",
              "      <th>4</th>\n",
              "      <td>ISIC_0074268</td>\n",
              "      <td>IP_8723313</td>\n",
              "      <td>female</td>\n",
              "      <td>55.0</td>\n",
              "      <td>upper extremity</td>\n",
              "      <td>unknown</td>\n",
              "      <td>benign</td>\n",
              "      <td>0</td>\n",
              "      <td>ISIC_0074268.jpg</td>\n",
              "    </tr>\n",
              "    <tr>\n",
              "      <th>...</th>\n",
              "      <td>...</td>\n",
              "      <td>...</td>\n",
              "      <td>...</td>\n",
              "      <td>...</td>\n",
              "      <td>...</td>\n",
              "      <td>...</td>\n",
              "      <td>...</td>\n",
              "      <td>...</td>\n",
              "      <td>...</td>\n",
              "    </tr>\n",
              "    <tr>\n",
              "      <th>33121</th>\n",
              "      <td>ISIC_9999134</td>\n",
              "      <td>IP_6526534</td>\n",
              "      <td>male</td>\n",
              "      <td>50.0</td>\n",
              "      <td>torso</td>\n",
              "      <td>unknown</td>\n",
              "      <td>benign</td>\n",
              "      <td>0</td>\n",
              "      <td>ISIC_9999134.jpg</td>\n",
              "    </tr>\n",
              "    <tr>\n",
              "      <th>33122</th>\n",
              "      <td>ISIC_9999320</td>\n",
              "      <td>IP_3650745</td>\n",
              "      <td>male</td>\n",
              "      <td>65.0</td>\n",
              "      <td>torso</td>\n",
              "      <td>unknown</td>\n",
              "      <td>benign</td>\n",
              "      <td>0</td>\n",
              "      <td>ISIC_9999320.jpg</td>\n",
              "    </tr>\n",
              "    <tr>\n",
              "      <th>33123</th>\n",
              "      <td>ISIC_9999515</td>\n",
              "      <td>IP_2026598</td>\n",
              "      <td>male</td>\n",
              "      <td>20.0</td>\n",
              "      <td>lower extremity</td>\n",
              "      <td>unknown</td>\n",
              "      <td>benign</td>\n",
              "      <td>0</td>\n",
              "      <td>ISIC_9999515.jpg</td>\n",
              "    </tr>\n",
              "    <tr>\n",
              "      <th>33124</th>\n",
              "      <td>ISIC_9999666</td>\n",
              "      <td>IP_7702038</td>\n",
              "      <td>male</td>\n",
              "      <td>50.0</td>\n",
              "      <td>lower extremity</td>\n",
              "      <td>unknown</td>\n",
              "      <td>benign</td>\n",
              "      <td>0</td>\n",
              "      <td>ISIC_9999666.jpg</td>\n",
              "    </tr>\n",
              "    <tr>\n",
              "      <th>33125</th>\n",
              "      <td>ISIC_9999806</td>\n",
              "      <td>IP_0046310</td>\n",
              "      <td>male</td>\n",
              "      <td>45.0</td>\n",
              "      <td>torso</td>\n",
              "      <td>nevus</td>\n",
              "      <td>benign</td>\n",
              "      <td>0</td>\n",
              "      <td>ISIC_9999806.jpg</td>\n",
              "    </tr>\n",
              "  </tbody>\n",
              "</table>\n",
              "<p>33126 rows × 9 columns</p>\n",
              "</div>\n",
              "      <button class=\"colab-df-convert\" onclick=\"convertToInteractive('df-2c8db7dc-ac53-45d4-bc94-e7d49777ee8a')\"\n",
              "              title=\"Convert this dataframe to an interactive table.\"\n",
              "              style=\"display:none;\">\n",
              "        \n",
              "  <svg xmlns=\"http://www.w3.org/2000/svg\" height=\"24px\"viewBox=\"0 0 24 24\"\n",
              "       width=\"24px\">\n",
              "    <path d=\"M0 0h24v24H0V0z\" fill=\"none\"/>\n",
              "    <path d=\"M18.56 5.44l.94 2.06.94-2.06 2.06-.94-2.06-.94-.94-2.06-.94 2.06-2.06.94zm-11 1L8.5 8.5l.94-2.06 2.06-.94-2.06-.94L8.5 2.5l-.94 2.06-2.06.94zm10 10l.94 2.06.94-2.06 2.06-.94-2.06-.94-.94-2.06-.94 2.06-2.06.94z\"/><path d=\"M17.41 7.96l-1.37-1.37c-.4-.4-.92-.59-1.43-.59-.52 0-1.04.2-1.43.59L10.3 9.45l-7.72 7.72c-.78.78-.78 2.05 0 2.83L4 21.41c.39.39.9.59 1.41.59.51 0 1.02-.2 1.41-.59l7.78-7.78 2.81-2.81c.8-.78.8-2.07 0-2.86zM5.41 20L4 18.59l7.72-7.72 1.47 1.35L5.41 20z\"/>\n",
              "  </svg>\n",
              "      </button>\n",
              "      \n",
              "  <style>\n",
              "    .colab-df-container {\n",
              "      display:flex;\n",
              "      flex-wrap:wrap;\n",
              "      gap: 12px;\n",
              "    }\n",
              "\n",
              "    .colab-df-convert {\n",
              "      background-color: #E8F0FE;\n",
              "      border: none;\n",
              "      border-radius: 50%;\n",
              "      cursor: pointer;\n",
              "      display: none;\n",
              "      fill: #1967D2;\n",
              "      height: 32px;\n",
              "      padding: 0 0 0 0;\n",
              "      width: 32px;\n",
              "    }\n",
              "\n",
              "    .colab-df-convert:hover {\n",
              "      background-color: #E2EBFA;\n",
              "      box-shadow: 0px 1px 2px rgba(60, 64, 67, 0.3), 0px 1px 3px 1px rgba(60, 64, 67, 0.15);\n",
              "      fill: #174EA6;\n",
              "    }\n",
              "\n",
              "    [theme=dark] .colab-df-convert {\n",
              "      background-color: #3B4455;\n",
              "      fill: #D2E3FC;\n",
              "    }\n",
              "\n",
              "    [theme=dark] .colab-df-convert:hover {\n",
              "      background-color: #434B5C;\n",
              "      box-shadow: 0px 1px 3px 1px rgba(0, 0, 0, 0.15);\n",
              "      filter: drop-shadow(0px 1px 2px rgba(0, 0, 0, 0.3));\n",
              "      fill: #FFFFFF;\n",
              "    }\n",
              "  </style>\n",
              "\n",
              "      <script>\n",
              "        const buttonEl =\n",
              "          document.querySelector('#df-2c8db7dc-ac53-45d4-bc94-e7d49777ee8a button.colab-df-convert');\n",
              "        buttonEl.style.display =\n",
              "          google.colab.kernel.accessAllowed ? 'block' : 'none';\n",
              "\n",
              "        async function convertToInteractive(key) {\n",
              "          const element = document.querySelector('#df-2c8db7dc-ac53-45d4-bc94-e7d49777ee8a');\n",
              "          const dataTable =\n",
              "            await google.colab.kernel.invokeFunction('convertToInteractive',\n",
              "                                                     [key], {});\n",
              "          if (!dataTable) return;\n",
              "\n",
              "          const docLinkHtml = 'Like what you see? Visit the ' +\n",
              "            '<a target=\"_blank\" href=https://colab.research.google.com/notebooks/data_table.ipynb>data table notebook</a>'\n",
              "            + ' to learn more about interactive tables.';\n",
              "          element.innerHTML = '';\n",
              "          dataTable['output_type'] = 'display_data';\n",
              "          await google.colab.output.renderOutput(dataTable, element);\n",
              "          const docLink = document.createElement('div');\n",
              "          docLink.innerHTML = docLinkHtml;\n",
              "          element.appendChild(docLink);\n",
              "        }\n",
              "      </script>\n",
              "    </div>\n",
              "  </div>\n",
              "  "
            ]
          },
          "metadata": {},
          "execution_count": 13
        }
      ],
      "source": [
        "train_df = pd.read_csv(base_path + path_train_csv)\n",
        "train_df['image_filename'] = train_df['image_name'].astype(str) + \".jpg\"\n",
        "train_df"
      ]
    },
    {
      "cell_type": "code",
      "source": [
        "train_df.groupby('benign_malignant').size()"
      ],
      "metadata": {
        "colab": {
          "base_uri": "https://localhost:8080/"
        },
        "id": "6suv-vynkUx7",
        "outputId": "a96bed37-89b2-41f3-c402-ce018d061e77"
      },
      "execution_count": 14,
      "outputs": [
        {
          "output_type": "execute_result",
          "data": {
            "text/plain": [
              "benign_malignant\n",
              "benign       32542\n",
              "malignant      584\n",
              "dtype: int64"
            ]
          },
          "metadata": {},
          "execution_count": 14
        }
      ]
    },
    {
      "cell_type": "code",
      "source": [
        "# # Create a dataset with equal number of malignant and benign cases.\n",
        "\n",
        "# b, m = train_df.groupby('benign_malignant')\n",
        "# b[1].drop(b[1].index[584:], inplace=True)\n",
        "# b = b[1]\n",
        "# m = m[1]\n",
        "# train_df=pd.concat([m[1], b[1]])\n",
        "# train_df.groupby('benign_malignant').size()"
      ],
      "metadata": {
        "id": "hm6L1FJ-ib3U"
      },
      "execution_count": 15,
      "outputs": []
    },
    {
      "cell_type": "markdown",
      "source": [
        "#3. Zapisanie obrazów w odpowiedniej strukturze katalogów"
      ],
      "metadata": {
        "id": "XGEucUQxAktz"
      }
    },
    {
      "cell_type": "code",
      "source": [
        "# b, m = train_df.groupby('benign_malignant')\n",
        "# b = b[1]\n",
        "# m = m[1]"
      ],
      "metadata": {
        "id": "yMgIOUfOkVf5"
      },
      "execution_count": 16,
      "outputs": []
    },
    {
      "cell_type": "code",
      "source": [
        "# path = base_path + '/imgg/malignant/'\n",
        "# for item in m['image_filename']:\n",
        "#   img = Image.open(base_path+\"jpeg/train/\"+item)\n",
        "#   img.save(path+item)"
      ],
      "metadata": {
        "id": "vfVXCZ0ZggxE"
      },
      "execution_count": 17,
      "outputs": []
    },
    {
      "cell_type": "code",
      "source": [
        "# import shutil\n",
        "\n",
        "# path = base_path + '/imgg/benign/'\n",
        "# count = 0\n",
        "\n",
        "# for item in b['image_filename']:\n",
        "#   shutil.copyfile(base_path+\"jpeg/train/\"+item, path+item)\n",
        "#   count += 1\n",
        "\n",
        "# count"
      ],
      "metadata": {
        "id": "zLu9SbdUbqnd"
      },
      "execution_count": 18,
      "outputs": []
    },
    {
      "cell_type": "code",
      "source": [
        "# Create a train_df that uses % of each label (benign and malignant). Used for quicker adjusting model config.\n",
        "\n",
        "# train_df = train_df.groupby('benign_malignant', group_keys=False).apply(lambda x: x.sample(frac=CONFIG.get('frac')))\n",
        "# train_df.groupby('benign_malignant').size()"
      ],
      "metadata": {
        "id": "OCy3cDcVo23e"
      },
      "execution_count": 19,
      "outputs": []
    },
    {
      "cell_type": "code",
      "source": [
        "test_df = pd.read_csv(base_path + path_test_csv)\n",
        "test_df['image_filename'] = test_df['image_name'].astype(str) + \".jpg\""
      ],
      "metadata": {
        "id": "cEObXGHWr2-L"
      },
      "execution_count": 20,
      "outputs": []
    },
    {
      "cell_type": "markdown",
      "source": [
        "#old"
      ],
      "metadata": {
        "id": "06B_3rz8Fhav"
      }
    },
    {
      "cell_type": "code",
      "source": [
        "# # making sure the proportion of classes is equal in train and validation set\n",
        "# train_train, train_valid = train_test_split(train_df, test_size=CONFIG.get(\"validation\"), stratify=train_df['benign_malignant'])\n",
        "# train_df_stratified = pd.concat([train_train, train_valid])\n",
        "# train_df_stratified"
      ],
      "metadata": {
        "id": "KYOMPDRfi8wh"
      },
      "execution_count": 21,
      "outputs": []
    },
    {
      "cell_type": "code",
      "execution_count": 22,
      "metadata": {
        "id": "XBmBiFyAaVgV"
      },
      "outputs": [],
      "source": [
        "# # ref: https://vijayabhaskar96.medium.com/tutorial-on-keras-flow-from-dataframe-1fd4493d237c\n",
        "\n",
        "# datagen = ImageDataGenerator(validation_split=CONFIG.get(\"validation\")) # todo image augmentation??\n",
        "\n",
        "# train_generator = datagen.flow_from_dataframe(\n",
        "#   dataframe = train_train,\n",
        "#   directory = path_train_img,\n",
        "#   x_col = \"image_filename\",\n",
        "#   y_col = \"benign_malignant\",\n",
        "#   subset=\"training\",\n",
        "#   batch_size = 32,\n",
        "#   seed = SEED,\n",
        "#   shuffle = False,\n",
        "#   class_mode = \"categorical\",\n",
        "#   target_size = CONFIG.get(\"target_size\"))\n",
        "\n",
        "# valid_generator = datagen.flow_from_dataframe(\n",
        "#   dataframe = train_valid,\n",
        "#   directory = path_train_img,\n",
        "#   x_col = \"image_filename\",\n",
        "#   y_col = \"benign_malignant\",\n",
        "#   subset=\"validation\",\n",
        "#   batch_size = 32,\n",
        "#   seed = SEED,\n",
        "#   shuffle = False,\n",
        "#   class_mode = \"categorical\",\n",
        "#   target_size = CONFIG.get(\"target_size\"))\n",
        "\n",
        "# test_datagen = ImageDataGenerator()\n",
        "\n",
        "# test_generator = valid_generator = datagen.flow_from_dataframe(\n",
        "#   dataframe = test_df,\n",
        "#   directory = path_test_img,\n",
        "#   x_col = \"image_filename\",\n",
        "#   y_col = None,\n",
        "#   subset = \"validation\",\n",
        "#   batch_size = 32,\n",
        "#   seed = SEED,\n",
        "#   shuffle = False,\n",
        "#   class_mode = None,\n",
        "#   target_size = CONFIG.get(\"target_size\"))"
      ]
    },
    {
      "cell_type": "code",
      "source": [
        "# train_dir = base_path + '/img'\n",
        "# train_ds = tf.keras.preprocessing.image_dataset_from_directory(train_dir, validation_split=0.3, image_size=(224,224), subset=\"training\", seed=SEED)\n",
        "# valid_ds = tf.keras.preprocessing.image_dataset_from_directory(train_dir, validation_split=0.3, image_size=(224,224), subset=\"validation\",seed=SEED)\n",
        "\n",
        "# class_names = train_ds.class_names\n",
        "# num_classes = len(class_names)\n",
        "# print('\\n{} classes:\\n{}'.format(num_classes,class_names))"
      ],
      "metadata": {
        "id": "RYbqsPJYxKQX"
      },
      "execution_count": 23,
      "outputs": []
    },
    {
      "cell_type": "markdown",
      "source": [
        "#4. Przygotowanie zbiorów danych treningowych i testowych"
      ],
      "metadata": {
        "id": "cOYjQ0rWlnmG"
      }
    },
    {
      "cell_type": "code",
      "source": [
        "train_datagen = ImageDataGenerator(rescale=1./255, validation_split=0.3)\n",
        "\n",
        "train_generator = train_datagen.flow_from_directory(path_train_img,\n",
        "                                                    subset='training', \n",
        "                                                    target_size=CONFIG.get(\"target_size\"),\n",
        "                                                    batch_size = 16,\n",
        "                                                    class_mode='categorical',\n",
        "                                                    )\n",
        "\n",
        "valid_generator = train_datagen.flow_from_directory(path_train_img,\n",
        "                                                     subset='validation', \n",
        "                                                     target_size=CONFIG.get(\"target_size\"),\n",
        "                                                     batch_size = 16,\n",
        "                                                     class_mode='categorical'\n",
        "                                                     ) \n",
        "\n",
        "class_names = train_generator.class_indices\n",
        "num_classes = len(class_names)\n",
        "print('\\n{} classes:\\n{}'.format(num_classes,class_names))"
      ],
      "metadata": {
        "colab": {
          "base_uri": "https://localhost:8080/"
        },
        "id": "WXPsE2gA40Qh",
        "outputId": "82ece806-b906-42f3-ac6c-9cf5ff008c65"
      },
      "execution_count": 24,
      "outputs": [
        {
          "output_type": "stream",
          "name": "stdout",
          "text": [
            "Found 818 images belonging to 2 classes.\n",
            "Found 350 images belonging to 2 classes.\n",
            "\n",
            "2 classes:\n",
            "{'benign': 0, 'malignant': 1}\n"
          ]
        }
      ]
    },
    {
      "cell_type": "code",
      "source": [
        "from collections import Counter\n",
        "\n",
        "counter_train = Counter(train_generator.classes)\n",
        "ratio_train = round(counter_train.get(1) / counter_train.get(0), 3)\n",
        "print(\"TRAINING >> {}, ratio malignant/benign: {}\".format(counter_train.items(), ratio_train))\n",
        "\n",
        "counter_valid = Counter(valid_generator.classes)\n",
        "ratio_valid = round(counter_valid.get(1) / counter_valid.get(0), 3)\n",
        "print(\"VALIDATION >> {}, ratio malignant/benign: {}\".format(counter_valid.items(), ratio_valid))"
      ],
      "metadata": {
        "colab": {
          "base_uri": "https://localhost:8080/"
        },
        "id": "gBIU21SFGFd4",
        "outputId": "0903eef8-7e13-423a-b266-13ceeb22399c"
      },
      "execution_count": 25,
      "outputs": [
        {
          "output_type": "stream",
          "name": "stdout",
          "text": [
            "TRAINING >> dict_items([(0, 409), (1, 409)]), ratio malignant/benign: 1.0\n",
            "VALIDATION >> dict_items([(0, 175), (1, 175)]), ratio malignant/benign: 1.0\n"
          ]
        }
      ]
    },
    {
      "cell_type": "markdown",
      "source": [
        "#old"
      ],
      "metadata": {
        "id": "If2zEQAR8bZn"
      }
    },
    {
      "cell_type": "markdown",
      "source": [
        "Focal loss - function that addresses class imbalance during training in tasks like object detection\n",
        "\n",
        "Ref: https://github.com/mkocabas/focal-loss-keras"
      ],
      "metadata": {
        "id": "sQS-0Fn58in3"
      }
    },
    {
      "cell_type": "code",
      "source": [
        "def focal_loss(gamma=2., alpha=.25):\n",
        "\tdef focal_loss_fixed(y_true, y_pred):\n",
        "\t\tpt_1 = tf.where(tf.equal(y_true, 1), y_pred, tf.ones_like(y_pred))\n",
        "\t\tpt_0 = tf.where(tf.equal(y_true, 0), y_pred, tf.zeros_like(y_pred))\n",
        "\t\treturn -K.mean(alpha * K.pow(1. - pt_1, gamma) * K.log(pt_1+K.epsilon())) - K.mean((1 - alpha) * K.pow(pt_0, gamma) * K.log(1. - pt_0 + K.epsilon()))\n",
        "\treturn focal_loss_fixed"
      ],
      "metadata": {
        "id": "OKMd1SaS8aMP"
      },
      "execution_count": 26,
      "outputs": []
    },
    {
      "cell_type": "markdown",
      "source": [
        "#5. Równoważenie klas"
      ],
      "metadata": {
        "id": "_u7H8rBhq5ic"
      }
    },
    {
      "cell_type": "code",
      "source": [
        "# ref: https://www.tensorflow.org/tutorials/structured_data/imbalanced_data\n",
        "# Scaling by total/2 helps keep the loss to a similar magnitude.\n",
        "# The sum of the weights of all examples stays the same.\n",
        "n_benign = 32542\n",
        "n_malignant = 584\n",
        "total=n_benign + n_malignant\n",
        "\n",
        "weight_for_malignant = (1 / n_malignant) * (total / 2.0)\n",
        "weight_for_benign = (1 / n_benign) * (total / 2.0)\n",
        "\n",
        "class_weight = {0: weight_for_benign, 1: weight_for_malignant}\n",
        "\n",
        "print('Weight for class 0: {:.2f}'.format(weight_for_benign))\n",
        "print('Weight for class 1: {:.2f}'.format(weight_for_malignant))"
      ],
      "metadata": {
        "colab": {
          "base_uri": "https://localhost:8080/"
        },
        "id": "1Y8Zst-lrBMJ",
        "outputId": "23974d93-c220-4e21-e1d0-3c8cdfed2bf0"
      },
      "execution_count": 48,
      "outputs": [
        {
          "output_type": "stream",
          "name": "stdout",
          "text": [
            "Weight for class 0: 0.51\n",
            "Weight for class 1: 28.36\n"
          ]
        }
      ]
    },
    {
      "cell_type": "markdown",
      "source": [
        "#6. Przygotowanie modelu"
      ],
      "metadata": {
        "id": "blWPWEwzl3HU"
      }
    },
    {
      "cell_type": "code",
      "execution_count": 38,
      "metadata": {
        "id": "p2cOShsvaWKf",
        "colab": {
          "base_uri": "https://localhost:8080/"
        },
        "outputId": "9a0a2d99-6afd-405e-84db-28fce9416dc9"
      },
      "outputs": [
        {
          "output_type": "stream",
          "name": "stdout",
          "text": [
            "Model: \"sequential_3\"\n",
            "_________________________________________________________________\n",
            " Layer (type)                Output Shape              Param #   \n",
            "=================================================================\n",
            " resnet50 (Functional)       (None, 7, 7, 2048)        23587712  \n",
            "                                                                 \n",
            " global_average_pooling2d_3   (None, 2048)             0         \n",
            " (GlobalAveragePooling2D)                                        \n",
            "                                                                 \n",
            " dense_3 (Dense)             (None, 2)                 4098      \n",
            "                                                                 \n",
            "=================================================================\n",
            "Total params: 23,591,810\n",
            "Trainable params: 23,538,690\n",
            "Non-trainable params: 53,120\n",
            "_________________________________________________________________\n"
          ]
        }
      ],
      "source": [
        "model_ResNet50 = tf.keras.Sequential([\n",
        "     tf.keras.applications.ResNet50(\n",
        "        input_shape = CONFIG.get(\"input_shape\"),\n",
        "        weights = 'imagenet', # one of None (random initialization), \n",
        "                              # 'imagenet' (pre-training on ImageNet) - default,\n",
        "                              # or the path to the weights file to be loaded\n",
        "        include_top = False # include the fully-connected layer at the top of the network\n",
        "    ),\n",
        "    \n",
        "    GlobalAveragePooling2D(),\n",
        "    \n",
        "    Dense(num_classes, activation='softmax')\n",
        "])\n",
        "\n",
        "METRICS = [\n",
        "      keras.metrics.TruePositives(name='tp'),\n",
        "      keras.metrics.FalsePositives(name='fp'),\n",
        "      keras.metrics.TrueNegatives(name='tn'),\n",
        "      keras.metrics.FalseNegatives(name='fn'), \n",
        "      keras.metrics.BinaryAccuracy(name='accuracy'),\n",
        "      keras.metrics.Precision(name='precision'),\n",
        "      keras.metrics.Recall(name='recall'),\n",
        "      keras.metrics.AUC(name='auc'),\n",
        "      keras.metrics.AUC(name='prc', curve='PR'), # precision-recall curve\n",
        "]\n",
        "    \n",
        "model_ResNet50.compile(\n",
        "    optimizer = CONFIG.get(\"optimizer\"),\n",
        "    #loss = tf.keras.losses.BinaryCrossentropy(label_smoothing = CONFIG.get(\"label_smooth_fac\")),\n",
        "    loss = CONFIG.get('loss'), #[focal_loss(alpha=.25, gamma=2)],\n",
        "    metrics = METRICS\n",
        ")\n",
        "\n",
        "model_ResNet50.summary()\n"
      ]
    },
    {
      "cell_type": "code",
      "source": [
        "# freeze the first layer - reduce significantly number of trainable parameters\n",
        "# (excluded from training, weights will never be updated)\n",
        "\n",
        "model_ResNet50.layers[0].trainable = False\n",
        "model_ResNet50.summary()"
      ],
      "metadata": {
        "colab": {
          "base_uri": "https://localhost:8080/"
        },
        "id": "yIdyr0el6xoY",
        "outputId": "94adf1da-69dc-4ef0-dcec-34803f5691ed"
      },
      "execution_count": 39,
      "outputs": [
        {
          "output_type": "stream",
          "name": "stdout",
          "text": [
            "Model: \"sequential_3\"\n",
            "_________________________________________________________________\n",
            " Layer (type)                Output Shape              Param #   \n",
            "=================================================================\n",
            " resnet50 (Functional)       (None, 7, 7, 2048)        23587712  \n",
            "                                                                 \n",
            " global_average_pooling2d_3   (None, 2048)             0         \n",
            " (GlobalAveragePooling2D)                                        \n",
            "                                                                 \n",
            " dense_3 (Dense)             (None, 2)                 4098      \n",
            "                                                                 \n",
            "=================================================================\n",
            "Total params: 23,591,810\n",
            "Trainable params: 4,098\n",
            "Non-trainable params: 23,587,712\n",
            "_________________________________________________________________\n"
          ]
        }
      ]
    },
    {
      "cell_type": "code",
      "source": [
        "#plot_model(model_ResNet50, to_file='model_plot.png', show_shapes=True, show_layer_names=True)"
      ],
      "metadata": {
        "id": "B4SUUuIb63_X"
      },
      "execution_count": 40,
      "outputs": []
    },
    {
      "cell_type": "markdown",
      "source": [
        "#7. Trenowanie modelu"
      ],
      "metadata": {
        "id": "camF2wF-npqZ"
      }
    },
    {
      "cell_type": "code",
      "source": [
        "# ref: https://keras.io/api/callbacks/early_stopping/\n",
        "cb_early_stopper = EarlyStopping(monitor = 'loss', patience = 1)\n",
        "\n",
        "# ref: https://keras.io/api/callbacks/model_checkpoint/\n",
        "cb_checkpointer  = ModelCheckpoint(filepath = checkpoint_path+'ResNet50-{epoch:02d}.hdf5',\n",
        "                                   monitor = 'loss', \n",
        "                                   verbose = 1,\n",
        "                                   save_best_only = True,\n",
        "                                   mode = 'min'\n",
        "                                  )\n",
        "\n",
        "callbacks_list = [cb_checkpointer, cb_early_stopper]"
      ],
      "metadata": {
        "id": "X56zsU7l5vCL"
      },
      "execution_count": 41,
      "outputs": []
    },
    {
      "cell_type": "code",
      "source": [
        "history = model_ResNet50.fit(train_generator, \n",
        "                             epochs = CONFIG.get(\"epochs\"), \n",
        "                             workers = CONFIG.get(\"workers\"),\n",
        "                             validation_data = valid_generator,\n",
        "                             callbacks = callbacks_list \n",
        "                            )"
      ],
      "metadata": {
        "colab": {
          "base_uri": "https://localhost:8080/"
        },
        "id": "hvK_1Yl7BJCM",
        "outputId": "8ecc8869-5145-435b-9017-7cb6e4e37405"
      },
      "execution_count": 42,
      "outputs": [
        {
          "output_type": "stream",
          "name": "stdout",
          "text": [
            "Epoch 1/20\n",
            "52/52 [==============================] - ETA: 0s - loss: 0.8634 - tp: 525.0000 - fp: 293.0000 - tn: 525.0000 - fn: 293.0000 - accuracy: 0.6418 - precision: 0.6418 - recall: 0.6418 - auc: 0.6756 - prc: 0.6454\n",
            "Epoch 1: loss improved from inf to 0.86338, saving model to drive/MyDrive/ColabNotebooks/checkpoint/ResNet50-01.hdf5\n",
            "52/52 [==============================] - 87s 1s/step - loss: 0.8634 - tp: 525.0000 - fp: 293.0000 - tn: 525.0000 - fn: 293.0000 - accuracy: 0.6418 - precision: 0.6418 - recall: 0.6418 - auc: 0.6756 - prc: 0.6454 - val_loss: 9046.0576 - val_tp: 175.0000 - val_fp: 175.0000 - val_tn: 175.0000 - val_fn: 175.0000 - val_accuracy: 0.5000 - val_precision: 0.5000 - val_recall: 0.5000 - val_auc: 0.5000 - val_prc: 0.5000\n",
            "Epoch 2/20\n",
            "52/52 [==============================] - ETA: 0s - loss: 0.6796 - tp: 556.0000 - fp: 262.0000 - tn: 556.0000 - fn: 262.0000 - accuracy: 0.6797 - precision: 0.6797 - recall: 0.6797 - auc: 0.7312 - prc: 0.7023\n",
            "Epoch 2: loss improved from 0.86338 to 0.67960, saving model to drive/MyDrive/ColabNotebooks/checkpoint/ResNet50-02.hdf5\n",
            "52/52 [==============================] - 79s 1s/step - loss: 0.6796 - tp: 556.0000 - fp: 262.0000 - tn: 556.0000 - fn: 262.0000 - accuracy: 0.6797 - precision: 0.6797 - recall: 0.6797 - auc: 0.7312 - prc: 0.7023 - val_loss: 400.2195 - val_tp: 175.0000 - val_fp: 175.0000 - val_tn: 175.0000 - val_fn: 175.0000 - val_accuracy: 0.5000 - val_precision: 0.5000 - val_recall: 0.5000 - val_auc: 0.5000 - val_prc: 0.5000\n",
            "Epoch 3/20\n",
            "52/52 [==============================] - ETA: 0s - loss: 0.5990 - tp: 599.0000 - fp: 219.0000 - tn: 599.0000 - fn: 219.0000 - accuracy: 0.7323 - precision: 0.7323 - recall: 0.7323 - auc: 0.7805 - prc: 0.7526\n",
            "Epoch 3: loss improved from 0.67960 to 0.59902, saving model to drive/MyDrive/ColabNotebooks/checkpoint/ResNet50-03.hdf5\n",
            "52/52 [==============================] - 81s 1s/step - loss: 0.5990 - tp: 599.0000 - fp: 219.0000 - tn: 599.0000 - fn: 219.0000 - accuracy: 0.7323 - precision: 0.7323 - recall: 0.7323 - auc: 0.7805 - prc: 0.7526 - val_loss: 0.6926 - val_tp: 175.0000 - val_fp: 175.0000 - val_tn: 175.0000 - val_fn: 175.0000 - val_accuracy: 0.5000 - val_precision: 0.5000 - val_recall: 0.5000 - val_auc: 0.6029 - val_prc: 0.6003\n",
            "Epoch 4/20\n",
            "52/52 [==============================] - ETA: 0s - loss: 0.5583 - tp: 588.0000 - fp: 230.0000 - tn: 588.0000 - fn: 230.0000 - accuracy: 0.7188 - precision: 0.7188 - recall: 0.7188 - auc: 0.7974 - prc: 0.7905\n",
            "Epoch 4: loss improved from 0.59902 to 0.55825, saving model to drive/MyDrive/ColabNotebooks/checkpoint/ResNet50-04.hdf5\n",
            "52/52 [==============================] - 78s 1s/step - loss: 0.5583 - tp: 588.0000 - fp: 230.0000 - tn: 588.0000 - fn: 230.0000 - accuracy: 0.7188 - precision: 0.7188 - recall: 0.7188 - auc: 0.7974 - prc: 0.7905 - val_loss: 0.6932 - val_tp: 175.0000 - val_fp: 175.0000 - val_tn: 175.0000 - val_fn: 175.0000 - val_accuracy: 0.5000 - val_precision: 0.5000 - val_recall: 0.5000 - val_auc: 0.5000 - val_prc: 0.5000\n",
            "Epoch 5/20\n",
            "52/52 [==============================] - ETA: 0s - loss: 0.5834 - tp: 570.0000 - fp: 248.0000 - tn: 570.0000 - fn: 248.0000 - accuracy: 0.6968 - precision: 0.6968 - recall: 0.6968 - auc: 0.7701 - prc: 0.7582\n",
            "Epoch 5: loss did not improve from 0.55825\n",
            "52/52 [==============================] - 74s 1s/step - loss: 0.5834 - tp: 570.0000 - fp: 248.0000 - tn: 570.0000 - fn: 248.0000 - accuracy: 0.6968 - precision: 0.6968 - recall: 0.6968 - auc: 0.7701 - prc: 0.7582 - val_loss: 0.6931 - val_tp: 175.0000 - val_fp: 175.0000 - val_tn: 175.0000 - val_fn: 175.0000 - val_accuracy: 0.5000 - val_precision: 0.5000 - val_recall: 0.5000 - val_auc: 0.5000 - val_prc: 0.5000\n"
          ]
        }
      ]
    },
    {
      "cell_type": "markdown",
      "source": [
        "#8. Ocena modelu"
      ],
      "metadata": {
        "id": "GYppZRWanv1d"
      }
    },
    {
      "cell_type": "code",
      "source": [
        "#model_ResNet50.evaluate(valid_generator)"
      ],
      "metadata": {
        "id": "CHfJIWk4CFhn"
      },
      "execution_count": 43,
      "outputs": []
    },
    {
      "cell_type": "code",
      "source": [
        "history.history"
      ],
      "metadata": {
        "colab": {
          "base_uri": "https://localhost:8080/"
        },
        "id": "897o73BPM4WM",
        "outputId": "361f55fe-47c9-4ff6-804b-b8ec43d822bb"
      },
      "execution_count": 44,
      "outputs": [
        {
          "output_type": "execute_result",
          "data": {
            "text/plain": [
              "{'loss': [0.8633822202682495,\n",
              "  0.6796027421951294,\n",
              "  0.5990184545516968,\n",
              "  0.5582518577575684,\n",
              "  0.5834234356880188],\n",
              " 'tp': [525.0, 556.0, 599.0, 588.0, 570.0],\n",
              " 'fp': [293.0, 262.0, 219.0, 230.0, 248.0],\n",
              " 'tn': [525.0, 556.0, 599.0, 588.0, 570.0],\n",
              " 'fn': [293.0, 262.0, 219.0, 230.0, 248.0],\n",
              " 'accuracy': [0.6418092846870422,\n",
              "  0.6797065734863281,\n",
              "  0.7322738170623779,\n",
              "  0.718826413154602,\n",
              "  0.6968215107917786],\n",
              " 'precision': [0.6418092846870422,\n",
              "  0.6797065734863281,\n",
              "  0.7322738170623779,\n",
              "  0.718826413154602,\n",
              "  0.6968215107917786],\n",
              " 'recall': [0.6418092846870422,\n",
              "  0.6797065734863281,\n",
              "  0.7322738170623779,\n",
              "  0.718826413154602,\n",
              "  0.6968215107917786],\n",
              " 'auc': [0.6756213903427124,\n",
              "  0.7312322854995728,\n",
              "  0.780512273311615,\n",
              "  0.7973753213882446,\n",
              "  0.7700994610786438],\n",
              " 'prc': [0.6454447507858276,\n",
              "  0.7023390531539917,\n",
              "  0.7526341080665588,\n",
              "  0.7905057072639465,\n",
              "  0.7581567764282227],\n",
              " 'val_loss': [9046.0576171875,\n",
              "  400.21954345703125,\n",
              "  0.6925714015960693,\n",
              "  0.6931753754615784,\n",
              "  0.6931482553482056],\n",
              " 'val_tp': [175.0, 175.0, 175.0, 175.0, 175.0],\n",
              " 'val_fp': [175.0, 175.0, 175.0, 175.0, 175.0],\n",
              " 'val_tn': [175.0, 175.0, 175.0, 175.0, 175.0],\n",
              " 'val_fn': [175.0, 175.0, 175.0, 175.0, 175.0],\n",
              " 'val_accuracy': [0.5, 0.5, 0.5, 0.5, 0.5],\n",
              " 'val_precision': [0.5, 0.5, 0.5, 0.5, 0.5],\n",
              " 'val_recall': [0.5, 0.5, 0.5, 0.5, 0.5],\n",
              " 'val_auc': [0.5, 0.5, 0.6028571128845215, 0.5, 0.5],\n",
              " 'val_prc': [0.5, 0.5, 0.6003153324127197, 0.5, 0.5]}"
            ]
          },
          "metadata": {},
          "execution_count": 44
        }
      ]
    },
    {
      "cell_type": "code",
      "source": [
        "acc = history.history['accuracy']\n",
        "val_acc = history.history['val_accuracy']\n",
        "\n",
        "loss = history.history['loss']\n",
        "val_loss = history.history['val_loss']\n",
        "\n",
        "metrics = history.history['accuracy']\n",
        "epochs_range = range(1, len(metrics) + 1) \n",
        "\n",
        "plt.figure(figsize=(23, 8))\n",
        "plt.subplot(1, 2, 1)\n",
        "plt.plot(epochs_range, acc, label='Training Accuracy')\n",
        "plt.plot(epochs_range, val_acc, label='Validation Accuracy')\n",
        "plt.legend(loc='lower right')\n",
        "plt.title('Training and Validation Accuracy')\n",
        "\n",
        "plt.subplot(1, 2, 2)\n",
        "plt.plot(epochs_range, loss, label='Training Loss')\n",
        "plt.plot(epochs_range, val_loss, label='Validation Loss')\n",
        "plt.legend(loc='upper right')\n",
        "plt.title('Training and Validation Loss')\n",
        "plt.show()\n",
        "plt.savefig(base_path + \"models/imgs/model_2.jpg\")"
      ],
      "metadata": {
        "id": "bRgpwgd26bit",
        "colab": {
          "base_uri": "https://localhost:8080/",
          "height": 439
        },
        "outputId": "5d0bd6e9-635e-449f-ae4d-cb9266d63104"
      },
      "execution_count": 45,
      "outputs": [
        {
          "output_type": "display_data",
          "data": {
            "text/plain": [
              "<Figure size 1656x576 with 2 Axes>"
            ],
            "image/png": "[encoded data removed]"
          },
          "metadata": {
            "needs_background": "light"
          }
        },
        {
          "output_type": "display_data",
          "data": {
            "text/plain": [
              "<Figure size 432x288 with 0 Axes>"
            ]
          },
          "metadata": {}
        }
      ]
    },
    {
      "cell_type": "markdown",
      "source": [],
      "metadata": {
        "id": "0rkq6fek_bgT"
      }
    },
    {
      "cell_type": "markdown",
      "source": [
        "#9. Zapisanie modelu"
      ],
      "metadata": {
        "id": "uGbsnCKI_eLQ"
      }
    },
    {
      "cell_type": "code",
      "source": [
        "# Zapisanie w tensorflow.js\n",
        "#tfjs.converters.save_keras_model(model_ResNet50, tfjs_target_dir, weight_shard_size_bytes=120000000)"
      ],
      "metadata": {
        "id": "tCqpuxY7_lzg"
      },
      "execution_count": 46,
      "outputs": []
    }
  ],
  "metadata": {
    "accelerator": "GPU",
    "colab": {
      "provenance": [],
      "machine_shape": "hm",
      "collapsed_sections": [
        "zCImDNTvn1L-",
        "hpwPG6X2lJmQ",
        "cOYjQ0rWlnmG",
        "If2zEQAR8bZn",
        "GYppZRWanv1d"
      ],
      "mount_file_id": "1hLi9f5XPFox-1V995PLJjdbIhX4ogtg_",
      "authorship_tag": "ABX9TyPANVV/c1udGuKoobsxojKZ",
      "include_colab_link": true
    },
    "gpuClass": "premium",
    "kernelspec": {
      "display_name": "Python 3",
      "name": "python3"
    },
    "language_info": {
      "name": "python"
    }
  },
  "nbformat": 4,
  "nbformat_minor": 0
}